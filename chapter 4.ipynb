{
 "cells": [
  {
   "cell_type": "markdown",
   "metadata": {},
   "source": [
    "# PRACTICE EXCERSICE"
   ]
  },
  {
   "cell_type": "code",
   "execution_count": 147,
   "metadata": {},
   "outputs": [
    {
     "name": "stdout",
     "output_type": "stream",
     "text": [
      "its ok\n",
      "its ok\n",
      "its ok\n",
      "its ok\n",
      "its ok\n",
      "its ok\n",
      "its ok\n"
     ]
    }
   ],
   "source": [
    "x='gaadbae'\n",
    "for y in x:\n",
    "\n",
    "    if y in 'abcdefghijklmn':\n",
    "        print('its ok')\n",
    "    else:\n",
    "        print('again false')"
   ]
  },
  {
   "cell_type": "code",
   "execution_count": 21,
   "metadata": {},
   "outputs": [
    {
     "name": "stdout",
     "output_type": "stream",
     "text": [
      "todler\n"
     ]
    }
   ],
   "source": [
    "def f(x):\n",
    "    if x<2:\n",
    "        print('baby')\n",
    "    if 2<x<4:\n",
    "        print('todler')\n",
    "f(3)"
   ]
  },
  {
   "cell_type": "code",
   "execution_count": 53,
   "metadata": {},
   "outputs": [
    {
     "ename": "SyntaxError",
     "evalue": "can't assign to literal (<ipython-input-53-8922bb2ce5ed>, line 2)",
     "output_type": "error",
     "traceback": [
      "\u001b[1;36m  File \u001b[1;32m\"<ipython-input-53-8922bb2ce5ed>\"\u001b[1;36m, line \u001b[1;32m2\u001b[0m\n\u001b[1;33m    1='jan'\u001b[0m\n\u001b[1;37m    ^\u001b[0m\n\u001b[1;31mSyntaxError\u001b[0m\u001b[1;31m:\u001b[0m can't assign to literal\n"
     ]
    }
   ],
   "source": [
    "def month(x):\n",
    "    for x in range (1,13):\n",
    "        "
   ]
  },
  {
   "cell_type": "code",
   "execution_count": 59,
   "metadata": {},
   "outputs": [
    {
     "name": "stdout",
     "output_type": "stream",
     "text": [
      "Last      First      Class      Average Grade\n",
      "DeMoines  Jim       Sophomore     3.45\n",
      "Pierre    Sophie    Sophomore     4.00\n",
      "Columbus  Maria     Senior        2.50\n",
      "Phoenix   River     Junior        2.45\n",
      "Olympis   Edgar     Junior        3.99\n"
     ]
    }
   ],
   "source": [
    "def roster(students):\n",
    "    print('Last      First      Class      Average Grade')\n",
    "    for i in students:\n",
    "        print('{:10}{:10}{:10}{:8.2f}'.format(i[0],i[1],i[2],i[3]))\n",
    "        \n",
    "\n",
    "students = []\n",
    "students.append(['DeMoines', 'Jim', 'Sophomore', 3.45])\n",
    "students.append(['Pierre', 'Sophie', 'Sophomore', 4.0])\n",
    "students.append(['Columbus', 'Maria', 'Senior', 2.5])\n",
    "students.append(['Phoenix', 'River', 'Junior', 2.45])\n",
    "students.append(['Olympis', 'Edgar', 'Junior', 3.99])\n",
    "roster(students)\n"
   ]
  },
  {
   "cell_type": "code",
   "execution_count": 70,
   "metadata": {},
   "outputs": [
    {
     "name": "stdout",
     "output_type": "stream",
     "text": [
      "10 20 30 40 50 \n",
      "\n",
      "10&20&30&40&50&"
     ]
    }
   ],
   "source": [
    "x=['10','20','30','40','50']\n",
    "for y in x:\n",
    "    print(y,end=' ')\n",
    "print('\\n')\n",
    "for y in x:\n",
    "    print(y,end='&')\n"
   ]
  },
  {
   "cell_type": "code",
   "execution_count": 80,
   "metadata": {},
   "outputs": [
    {
     "name": "stdout",
     "output_type": "stream",
     "text": [
      "Its was the great pleasure to be with you  i learnt many things with you \n",
      "its was the great pleasure to be with you  i learnt many things with you \n",
      "2\n",
      "38\n"
     ]
    }
   ],
   "source": [
    "x='It''s was the great pleasure to be with you!,i learnt many things with you.'\n",
    "y=str.maketrans(\"'',!.\",'     ')\n",
    "z=x.translate(y)\n",
    "print(z)\n",
    "r=z.lower()\n",
    "print(r)\n",
    "print(x.count('you'))\n",
    "print(x.find('you'))"
   ]
  },
  {
   "cell_type": "code",
   "execution_count": 142,
   "metadata": {},
   "outputs": [
    {
     "name": "stdout",
     "output_type": "stream",
     "text": [
      "8\n"
     ]
    }
   ],
   "source": [
    "def vowels(string):\n",
    "    y=0\n",
    "    for x in string:\n",
    "        \n",
    "        if x in \"aeiou\":\n",
    "            y=y+1\n",
    "            \n",
    "    print(y)\n",
    "        \n",
    "vowels('most people  has brown hairs')"
   ]
  },
  {
   "cell_type": "markdown",
   "metadata": {},
   "source": [
    "# PROBLEMS"
   ]
  },
  {
   "cell_type": "code",
   "execution_count": 161,
   "metadata": {},
   "outputs": [
    {
     "name": "stdout",
     "output_type": "stream",
     "text": [
      "DEC\n"
     ]
    }
   ],
   "source": [
    "def month(x):\n",
    "    y={1:'JAN',2:'FEB',3:'MAR',4:'APR',5:'MAY',6:'JUNE',7:'JULY',8:'AUG',9:'SEPT',10:'OCT',11:'NOV',12:'DEC'}\n",
    "    x=y[x]\n",
    "    print(x)\n",
    "    \n",
    "month(12)    "
   ]
  },
  {
   "cell_type": "code",
   "execution_count": 178,
   "metadata": {},
   "outputs": [
    {
     "name": "stdout",
     "output_type": "stream",
     "text": [
      "enter a sentencegtrw ghyuju ww\n"
     ]
    },
    {
     "ename": "TypeError",
     "evalue": "unsupported operand type(s) for /: 'str' and 'int'",
     "output_type": "error",
     "traceback": [
      "\u001b[1;31m---------------------------------------------------------------------------\u001b[0m",
      "\u001b[1;31mTypeError\u001b[0m                                 Traceback (most recent call last)",
      "\u001b[1;32m<ipython-input-178-28ad9d0cb46f>\u001b[0m in \u001b[0;36m<module>\u001b[1;34m\u001b[0m\n\u001b[0;32m      6\u001b[0m         \u001b[0mv\u001b[0m\u001b[1;33m=\u001b[0m\u001b[1;33m(\u001b[0m\u001b[0mz\u001b[0m\u001b[1;33m)\u001b[0m\u001b[1;33m\u001b[0m\u001b[1;33m\u001b[0m\u001b[0m\n\u001b[0;32m      7\u001b[0m     \u001b[0mprint\u001b[0m\u001b[1;33m(\u001b[0m\u001b[0mv\u001b[0m\u001b[1;33m/\u001b[0m\u001b[0mc\u001b[0m\u001b[1;33m)\u001b[0m\u001b[1;33m\u001b[0m\u001b[1;33m\u001b[0m\u001b[0m\n\u001b[1;32m----> 8\u001b[1;33m \u001b[0maverage\u001b[0m\u001b[1;33m(\u001b[0m\u001b[1;33m)\u001b[0m\u001b[1;33m\u001b[0m\u001b[1;33m\u001b[0m\u001b[0m\n\u001b[0m",
      "\u001b[1;32m<ipython-input-178-28ad9d0cb46f>\u001b[0m in \u001b[0;36maverage\u001b[1;34m()\u001b[0m\n\u001b[0;32m      5\u001b[0m         \u001b[0mc\u001b[0m\u001b[1;33m=\u001b[0m\u001b[1;33m(\u001b[0m\u001b[0mlen\u001b[0m\u001b[1;33m(\u001b[0m\u001b[0my\u001b[0m\u001b[1;33m)\u001b[0m\u001b[1;33m)\u001b[0m\u001b[1;33m\u001b[0m\u001b[1;33m\u001b[0m\u001b[0m\n\u001b[0;32m      6\u001b[0m         \u001b[0mv\u001b[0m\u001b[1;33m=\u001b[0m\u001b[1;33m(\u001b[0m\u001b[0mz\u001b[0m\u001b[1;33m)\u001b[0m\u001b[1;33m\u001b[0m\u001b[1;33m\u001b[0m\u001b[0m\n\u001b[1;32m----> 7\u001b[1;33m     \u001b[0mprint\u001b[0m\u001b[1;33m(\u001b[0m\u001b[0mv\u001b[0m\u001b[1;33m/\u001b[0m\u001b[0mc\u001b[0m\u001b[1;33m)\u001b[0m\u001b[1;33m\u001b[0m\u001b[1;33m\u001b[0m\u001b[0m\n\u001b[0m\u001b[0;32m      8\u001b[0m \u001b[0maverage\u001b[0m\u001b[1;33m(\u001b[0m\u001b[1;33m)\u001b[0m\u001b[1;33m\u001b[0m\u001b[1;33m\u001b[0m\u001b[0m\n",
      "\u001b[1;31mTypeError\u001b[0m: unsupported operand type(s) for /: 'str' and 'int'"
     ]
    }
   ],
   "source": [
    "def average():\n",
    "    x=input('enter a sentence')\n",
    "    y=x.split()\n",
    "    for z in y:\n",
    "        c=(len(y))\n",
    "        v=(z)\n",
    "    print(v/c)\n",
    "average()"
   ]
  },
  {
   "cell_type": "code",
   "execution_count": 181,
   "metadata": {},
   "outputs": [
    {
     "name": "stdout",
     "output_type": "stream",
     "text": [
      "how do you spell winner?\n",
      "i know, i know\n",
      "Shera!\n",
      "how do you spell winner!\n",
      "go!Shera!Go!\n"
     ]
    }
   ],
   "source": [
    "def cheer(name):\n",
    "    print('how do you spell winner?')\n",
    "    print('i know, i know')\n",
    "    print(name+'!')\n",
    "    print('how do you spell winner!')\n",
    "    print('go!'+name+'!Go!')\n",
    "cheer('Shera')"
   ]
  },
  {
   "cell_type": "code",
   "execution_count": 9,
   "metadata": {},
   "outputs": [
    {
     "name": "stdout",
     "output_type": "stream",
     "text": [
      "a,e,i,o,u apears 7 10 6 2 1 times\n"
     ]
    }
   ],
   "source": [
    "def vowel(string):\n",
    "    count1=0\n",
    "    count2=0\n",
    "    count3=0\n",
    "    count4=0\n",
    "    count5=0\n",
    "    for x in string:\n",
    "        if x in 'Aa':\n",
    "            count1+=1\n",
    "        if x in 'Ee':\n",
    "            count2+=1\n",
    "        if x in 'Ii':\n",
    "            count3+=1\n",
    "        if x in 'Oo':\n",
    "            count4+=1\n",
    "        if x in 'Uu':\n",
    "            count5+=1\n",
    "    print('a,e,i,o,u apears',count1,count2,count3,count4,count5,'times')\n",
    "vowel('my name is muteeb shera and my departmet is software engineering and i am doing chp 4')"
   ]
  },
  {
   "cell_type": "code",
   "execution_count": 192,
   "metadata": {},
   "outputs": [
    {
     "name": "stdout",
     "output_type": "stream",
     "text": [
      "I will tell you my xxxxxx. But first, I have to explain why it is a xxxxxx.\n",
      "And that is all I will tell you about my xxxxxx.\n"
     ]
    }
   ],
   "source": [
    "def crypto(filename):\n",
    "    y=open(filename,'r')\n",
    "    file=y.read()\n",
    "    y.close()\n",
    "    z=file.replace('secret','xxxxxx')\n",
    "    print(z)\n",
    "crypto('example.txt')\n",
    "    "
   ]
  },
  {
   "cell_type": "code",
   "execution_count": 196,
   "metadata": {},
   "outputs": [],
   "source": [
    "def fcopy(file1,file2):\n",
    "    y=open(file1,'r')\n",
    "    z=y.read()\n",
    "    y.close()\n",
    "    a=open(file2,'w')\n",
    "    b=a.write(z)\n",
    "    \n",
    "    a.close()\n",
    "fcopy('example.txt','practice.txt')\n",
    "    "
   ]
  },
  {
   "cell_type": "code",
   "execution_count": 204,
   "metadata": {},
   "outputs": [
    {
     "name": "stdout",
     "output_type": "stream",
     "text": [
      "no of charactera 124\n",
      "no of lines 2\n",
      "no of words 28\n"
     ]
    }
   ],
   "source": [
    "def stats(filename):\n",
    "    x=open(filename,'r')\n",
    "    y=x.read()\n",
    "    x.close\n",
    "    print('no of charactera',len(y))\n",
    "    a=open(filename,'r')\n",
    "    z=a.readlines()\n",
    "    a.close\n",
    "    print('no of lines',len(z))\n",
    "    d=open(filename,'r')\n",
    "    e=d.read()\n",
    "    r=e.split()\n",
    "    print('no of words',len(r))\n",
    "stats('example.txt')"
   ]
  },
  {
   "cell_type": "code",
   "execution_count": 12,
   "metadata": {},
   "outputs": [
    {
     "name": "stdout",
     "output_type": "stream",
     "text": [
      "A grade students 1\n",
      "A grade students 2\n",
      "A grade students 3\n",
      "B gradde students 0\n",
      "B gradde students 1\n",
      "C gradde students 1\n",
      "C gradde students 2\n",
      "C gradde students 3\n",
      "C gradde students 4\n",
      "C gradde students 5\n",
      "C gradde students 6\n",
      "D gradde students 1\n"
     ]
    }
   ],
   "source": [
    "def grade(filename):\n",
    "    y=open(filename,'r')\n",
    "    x=y.read()\n",
    "    y.close\n",
    "    d=x.split()\n",
    "    x1=0\n",
    "    x2=0\n",
    "    x3=0\n",
    "    x4=0\n",
    "    for r in d:\n",
    "        if r is'A':\n",
    "            x1+=1\n",
    "            print('A grade students',x1)\n",
    "        if r=='B':\n",
    "            print('B gradde students',x2)\n",
    "            x2+=1\n",
    "        if r=='C':\n",
    "            x3+=1\n",
    "            print('C gradde students',x3)\n",
    "        if r=='D':\n",
    "            x4+=1\n",
    "            print('D gradde students',x4)\n",
    "grade('grades.txt')"
   ]
  },
  {
   "cell_type": "code",
   "execution_count": 51,
   "metadata": {},
   "outputs": [
    {
     "data": {
      "text/plain": [
       "True"
      ]
     },
     "execution_count": 51,
     "metadata": {},
     "output_type": "execute_result"
    }
   ],
   "source": [
    "def duplicate(filename):\n",
    "    y=open(filename,'r')\n",
    "    x=y.read()\n",
    "    \n",
    "    y.close\n",
    "    u=x.split()\n",
    "    i=x.split()\n",
    "    \n",
    "    if u == i:\n",
    "        return True\n",
    "            \n",
    "        \n",
    "duplicate('hello.txt')"
   ]
  },
  {
   "cell_type": "code",
   "execution_count": 72,
   "metadata": {},
   "outputs": [],
   "source": [
    "def censor(filename,file):\n",
    "    infile = open(filename,'r')\n",
    "    outfile = open(file,'w+')\n",
    "    for line in infile:\n",
    "        words=line.split()\n",
    "        for word in words:\n",
    "            if len(word)==4:\n",
    "                line=line.replace(word,'xxxx')\n",
    "        outfile.write(line)\n",
    "    outfile.close()\n",
    "    infile.close() \n",
    "\n",
    "censor('example.txt','practice.txt')"
   ]
  },
  {
   "cell_type": "code",
   "execution_count": 71,
   "metadata": {},
   "outputs": [],
   "source": []
  },
  {
   "cell_type": "code",
   "execution_count": null,
   "metadata": {},
   "outputs": [],
   "source": []
  },
  {
   "cell_type": "code",
   "execution_count": null,
   "metadata": {},
   "outputs": [],
   "source": []
  },
  {
   "cell_type": "code",
   "execution_count": null,
   "metadata": {},
   "outputs": [],
   "source": []
  }
 ],
 "metadata": {
  "kernelspec": {
   "display_name": "Python 3",
   "language": "python",
   "name": "python3"
  },
  "language_info": {
   "codemirror_mode": {
    "name": "ipython",
    "version": 3
   },
   "file_extension": ".py",
   "mimetype": "text/x-python",
   "name": "python",
   "nbconvert_exporter": "python",
   "pygments_lexer": "ipython3",
   "version": "3.7.4"
  }
 },
 "nbformat": 4,
 "nbformat_minor": 2
}
