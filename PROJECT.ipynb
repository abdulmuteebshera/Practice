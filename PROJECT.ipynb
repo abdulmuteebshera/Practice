{
 "cells": [
  {
   "cell_type": "markdown",
   "metadata": {},
   "source": [
    "DATE:17-1-2020    SECTION:B"
   ]
  },
  {
   "cell_type": "markdown",
   "metadata": {},
   "source": [
    "# PROGRAMING FUNDAMENTALS PROJECTS(DATA SCIENCE)\n"
   ]
  },
  {
   "cell_type": "markdown",
   "metadata": {},
   "source": [
    "# MEMBERS: -\n"
   ]
  },
  {
   "cell_type": "markdown",
   "metadata": {},
   "source": [
    "# ABDUL MUTEEB SHERA(19B-121-SE)  MUHAMMAD BILAL(19B-106-SE)\n",
    "\n"
   ]
  },
  {
   "cell_type": "code",
   "execution_count": 1,
   "metadata": {},
   "outputs": [
    {
     "data": {
      "text/html": [
       "<div>\n",
       "<style scoped>\n",
       "    .dataframe tbody tr th:only-of-type {\n",
       "        vertical-align: middle;\n",
       "    }\n",
       "\n",
       "    .dataframe tbody tr th {\n",
       "        vertical-align: top;\n",
       "    }\n",
       "\n",
       "    .dataframe thead th {\n",
       "        text-align: right;\n",
       "    }\n",
       "</style>\n",
       "<table border=\"1\" class=\"dataframe\">\n",
       "  <thead>\n",
       "    <tr style=\"text-align: right;\">\n",
       "      <th></th>\n",
       "      <th>Date</th>\n",
       "      <th>Conditions</th>\n",
       "      <th>Rain</th>\n",
       "      <th>MaxTemp</th>\n",
       "      <th>AvgTemp</th>\n",
       "      <th>MinTemp</th>\n",
       "      <th>SunRise</th>\n",
       "      <th>SunSet</th>\n",
       "      <th>AvgWind</th>\n",
       "      <th>AvgHumidity</th>\n",
       "      <th>AvgPressure</th>\n",
       "    </tr>\n",
       "  </thead>\n",
       "  <tbody>\n",
       "    <tr>\n",
       "      <td>0</td>\n",
       "      <td>02.09.2019</td>\n",
       "      <td>Partly cloudy</td>\n",
       "      <td>0.0</td>\n",
       "      <td>27</td>\n",
       "      <td>24.5</td>\n",
       "      <td>22</td>\n",
       "      <td>6:32:00</td>\n",
       "      <td>19:37:00</td>\n",
       "      <td>23</td>\n",
       "      <td>66</td>\n",
       "      <td>1012</td>\n",
       "    </tr>\n",
       "    <tr>\n",
       "      <td>1</td>\n",
       "      <td>01.09.2019</td>\n",
       "      <td>Partly cloudy</td>\n",
       "      <td>0.0</td>\n",
       "      <td>27</td>\n",
       "      <td>24.5</td>\n",
       "      <td>22</td>\n",
       "      <td>6:31:00</td>\n",
       "      <td>19:38:00</td>\n",
       "      <td>21</td>\n",
       "      <td>66</td>\n",
       "      <td>1011</td>\n",
       "    </tr>\n",
       "    <tr>\n",
       "      <td>2</td>\n",
       "      <td>31.08.2019</td>\n",
       "      <td>Patchy rain possible</td>\n",
       "      <td>0.5</td>\n",
       "      <td>26</td>\n",
       "      <td>24.0</td>\n",
       "      <td>22</td>\n",
       "      <td>6:30:00</td>\n",
       "      <td>19:40:00</td>\n",
       "      <td>22</td>\n",
       "      <td>63</td>\n",
       "      <td>1015</td>\n",
       "    </tr>\n",
       "    <tr>\n",
       "      <td>3</td>\n",
       "      <td>30.08.2019</td>\n",
       "      <td>Partly cloudy</td>\n",
       "      <td>0.0</td>\n",
       "      <td>27</td>\n",
       "      <td>24.5</td>\n",
       "      <td>22</td>\n",
       "      <td>6:29:00</td>\n",
       "      <td>19:42:00</td>\n",
       "      <td>20</td>\n",
       "      <td>64</td>\n",
       "      <td>1016</td>\n",
       "    </tr>\n",
       "    <tr>\n",
       "      <td>4</td>\n",
       "      <td>29.08.2019</td>\n",
       "      <td>Partly cloudy</td>\n",
       "      <td>0.0</td>\n",
       "      <td>27</td>\n",
       "      <td>25.0</td>\n",
       "      <td>23</td>\n",
       "      <td>6:27:00</td>\n",
       "      <td>19:43:00</td>\n",
       "      <td>24</td>\n",
       "      <td>61</td>\n",
       "      <td>1015</td>\n",
       "    </tr>\n",
       "  </tbody>\n",
       "</table>\n",
       "</div>"
      ],
      "text/plain": [
       "         Date            Conditions  Rain  MaxTemp  AvgTemp  MinTemp  SunRise  \\\n",
       "0  02.09.2019         Partly cloudy   0.0       27     24.5       22  6:32:00   \n",
       "1  01.09.2019         Partly cloudy   0.0       27     24.5       22  6:31:00   \n",
       "2  31.08.2019  Patchy rain possible   0.5       26     24.0       22  6:30:00   \n",
       "3  30.08.2019         Partly cloudy   0.0       27     24.5       22  6:29:00   \n",
       "4  29.08.2019         Partly cloudy   0.0       27     25.0       23  6:27:00   \n",
       "\n",
       "     SunSet  AvgWind  AvgHumidity  AvgPressure  \n",
       "0  19:37:00       23           66         1012  \n",
       "1  19:38:00       21           66         1011  \n",
       "2  19:40:00       22           63         1015  \n",
       "3  19:42:00       20           64         1016  \n",
       "4  19:43:00       24           61         1015  "
      ]
     },
     "execution_count": 1,
     "metadata": {},
     "output_type": "execute_result"
    }
   ],
   "source": [
    "import pandas as pd\n",
    "import numpy as np\n",
    "import matplotlib.pyplot as plt\n",
    "from matplotlib import pyplot as plt\n",
    "%matplotlib inline\n",
    "\n",
    "df = pd.read_csv('Istanbul Weather Data.csv')\n",
    "df.head()\n"
   ]
  },
  {
   "cell_type": "code",
   "execution_count": 2,
   "metadata": {},
   "outputs": [
    {
     "data": {
      "text/plain": [
       "Date            object\n",
       "Conditions      object\n",
       "Rain           float64\n",
       "MaxTemp          int64\n",
       "AvgTemp        float64\n",
       "MinTemp          int64\n",
       "SunRise         object\n",
       "SunSet          object\n",
       "AvgWind          int64\n",
       "AvgHumidity      int64\n",
       "AvgPressure      int64\n",
       "dtype: object"
      ]
     },
     "execution_count": 2,
     "metadata": {},
     "output_type": "execute_result"
    }
   ],
   "source": [
    "df.dtypes"
   ]
  },
  {
   "cell_type": "code",
   "execution_count": 3,
   "metadata": {},
   "outputs": [
    {
     "data": {
      "text/plain": [
       "Index(['Date', 'Conditions', 'Rain', 'MaxTemp', 'AvgTemp', 'MinTemp',\n",
       "       'SunRise', 'SunSet', 'AvgWind', 'AvgHumidity', 'AvgPressure'],\n",
       "      dtype='object')"
      ]
     },
     "execution_count": 3,
     "metadata": {},
     "output_type": "execute_result"
    }
   ],
   "source": [
    "df.columns"
   ]
  },
  {
   "cell_type": "code",
   "execution_count": 4,
   "metadata": {},
   "outputs": [
    {
     "data": {
      "text/plain": [
       "(3896, 11)"
      ]
     },
     "execution_count": 4,
     "metadata": {},
     "output_type": "execute_result"
    }
   ],
   "source": [
    "df.shape"
   ]
  },
  {
   "cell_type": "code",
   "execution_count": 5,
   "metadata": {},
   "outputs": [
    {
     "data": {
      "text/html": [
       "<div>\n",
       "<style scoped>\n",
       "    .dataframe tbody tr th:only-of-type {\n",
       "        vertical-align: middle;\n",
       "    }\n",
       "\n",
       "    .dataframe tbody tr th {\n",
       "        vertical-align: top;\n",
       "    }\n",
       "\n",
       "    .dataframe thead th {\n",
       "        text-align: right;\n",
       "    }\n",
       "</style>\n",
       "<table border=\"1\" class=\"dataframe\">\n",
       "  <thead>\n",
       "    <tr style=\"text-align: right;\">\n",
       "      <th></th>\n",
       "      <th>Date</th>\n",
       "      <th>Conditions</th>\n",
       "      <th>Rain</th>\n",
       "      <th>MaxTemp</th>\n",
       "      <th>AvgTemp</th>\n",
       "      <th>MinTemp</th>\n",
       "      <th>SunRise</th>\n",
       "      <th>SunSet</th>\n",
       "      <th>AvgWind</th>\n",
       "      <th>AvgHumidity</th>\n",
       "      <th>AvgPressure</th>\n",
       "    </tr>\n",
       "  </thead>\n",
       "  <tbody>\n",
       "    <tr>\n",
       "      <td>3895</td>\n",
       "      <td>01.01.2009</td>\n",
       "      <td>Partly cloudy</td>\n",
       "      <td>0.23</td>\n",
       "      <td>5</td>\n",
       "      <td>3.5</td>\n",
       "      <td>2</td>\n",
       "      <td>8:29:00</td>\n",
       "      <td>17:47:00</td>\n",
       "      <td>10</td>\n",
       "      <td>90</td>\n",
       "      <td>1027</td>\n",
       "    </tr>\n",
       "  </tbody>\n",
       "</table>\n",
       "</div>"
      ],
      "text/plain": [
       "            Date     Conditions  Rain  MaxTemp  AvgTemp  MinTemp  SunRise  \\\n",
       "3895  01.01.2009  Partly cloudy  0.23        5      3.5        2  8:29:00   \n",
       "\n",
       "        SunSet  AvgWind  AvgHumidity  AvgPressure  \n",
       "3895  17:47:00       10           90         1027  "
      ]
     },
     "execution_count": 5,
     "metadata": {},
     "output_type": "execute_result"
    }
   ],
   "source": [
    "df[-1:]"
   ]
  },
  {
   "cell_type": "code",
   "execution_count": 6,
   "metadata": {},
   "outputs": [
    {
     "data": {
      "text/plain": [
       "1495"
      ]
     },
     "execution_count": 6,
     "metadata": {},
     "output_type": "execute_result"
    }
   ],
   "source": [
    "# row no of maximum avg temperature\n",
    "df['AvgTemp'].idxmax()"
   ]
  },
  {
   "cell_type": "code",
   "execution_count": 7,
   "metadata": {},
   "outputs": [
    {
     "data": {
      "text/plain": [
       "30.0"
      ]
     },
     "execution_count": 7,
     "metadata": {},
     "output_type": "execute_result"
    }
   ],
   "source": [
    "# maximum average temperature\n",
    "df['AvgTemp'][df['AvgTemp'].idxmax()]"
   ]
  },
  {
   "cell_type": "code",
   "execution_count": 8,
   "metadata": {},
   "outputs": [
    {
     "data": {
      "text/plain": [
       "-3.5"
      ]
     },
     "execution_count": 8,
     "metadata": {},
     "output_type": "execute_result"
    }
   ],
   "source": [
    "# minimum average temperature\n",
    "df['AvgTemp'][df['AvgTemp'].idxmin()]"
   ]
  },
  {
   "cell_type": "code",
   "execution_count": 11,
   "metadata": {},
   "outputs": [
    {
     "data": {
      "text/plain": [
       "37"
      ]
     },
     "execution_count": 11,
     "metadata": {},
     "output_type": "execute_result"
    }
   ],
   "source": [
    "# maximum temperature of 10 years\n",
    "df['MaxTemp'][df['MaxTemp'].idxmax()]"
   ]
  },
  {
   "cell_type": "code",
   "execution_count": 10,
   "metadata": {},
   "outputs": [
    {
     "data": {
      "text/plain": [
       "15.929543121149898"
      ]
     },
     "execution_count": 10,
     "metadata": {},
     "output_type": "execute_result"
    }
   ],
   "source": [
    "# mean average temperature\n",
    "df['AvgTemp'].mean()"
   ]
  },
  {
   "cell_type": "code",
   "execution_count": 12,
   "metadata": {},
   "outputs": [
    {
     "name": "stdout",
     "output_type": "stream",
     "text": [
      "Index(['Date', 'Conditions', 'SunRise', 'SunSet'], dtype='object')\n"
     ]
    }
   ],
   "source": [
    "# objects columns\n",
    "cat=df.dtypes.loc[df.dtypes=='object'].index\n",
    "print(cat)"
   ]
  },
  {
   "cell_type": "code",
   "execution_count": 14,
   "metadata": {},
   "outputs": [
    {
     "name": "stdout",
     "output_type": "stream",
     "text": [
      "Index(['MaxTemp', 'MinTemp', 'AvgWind', 'AvgHumidity', 'AvgPressure'], dtype='object')\n"
     ]
    }
   ],
   "source": [
    "# integer columns\n",
    "category=df.dtypes.loc[df.dtypes=='int64'].index\n",
    "print(category)"
   ]
  },
  {
   "cell_type": "code",
   "execution_count": 11,
   "metadata": {},
   "outputs": [
    {
     "data": {
      "text/html": [
       "<div>\n",
       "<style scoped>\n",
       "    .dataframe tbody tr th:only-of-type {\n",
       "        vertical-align: middle;\n",
       "    }\n",
       "\n",
       "    .dataframe tbody tr th {\n",
       "        vertical-align: top;\n",
       "    }\n",
       "\n",
       "    .dataframe thead th {\n",
       "        text-align: right;\n",
       "    }\n",
       "</style>\n",
       "<table border=\"1\" class=\"dataframe\">\n",
       "  <thead>\n",
       "    <tr style=\"text-align: right;\">\n",
       "      <th></th>\n",
       "      <th>Rain</th>\n",
       "      <th>MaxTemp</th>\n",
       "      <th>AvgTemp</th>\n",
       "      <th>MinTemp</th>\n",
       "      <th>AvgWind</th>\n",
       "      <th>AvgHumidity</th>\n",
       "      <th>AvgPressure</th>\n",
       "    </tr>\n",
       "  </thead>\n",
       "  <tbody>\n",
       "    <tr>\n",
       "      <td>count</td>\n",
       "      <td>3896.000000</td>\n",
       "      <td>3896.000000</td>\n",
       "      <td>3896.000000</td>\n",
       "      <td>3896.000000</td>\n",
       "      <td>3896.000000</td>\n",
       "      <td>3896.000000</td>\n",
       "      <td>3896.000000</td>\n",
       "    </tr>\n",
       "    <tr>\n",
       "      <td>mean</td>\n",
       "      <td>0.946794</td>\n",
       "      <td>18.084189</td>\n",
       "      <td>15.929543</td>\n",
       "      <td>13.774897</td>\n",
       "      <td>16.989220</td>\n",
       "      <td>71.414784</td>\n",
       "      <td>1015.281314</td>\n",
       "    </tr>\n",
       "    <tr>\n",
       "      <td>std</td>\n",
       "      <td>2.558308</td>\n",
       "      <td>7.613318</td>\n",
       "      <td>7.142182</td>\n",
       "      <td>6.865021</td>\n",
       "      <td>7.950417</td>\n",
       "      <td>9.483500</td>\n",
       "      <td>6.284232</td>\n",
       "    </tr>\n",
       "    <tr>\n",
       "      <td>min</td>\n",
       "      <td>0.000000</td>\n",
       "      <td>-3.000000</td>\n",
       "      <td>-3.500000</td>\n",
       "      <td>-5.000000</td>\n",
       "      <td>2.000000</td>\n",
       "      <td>40.000000</td>\n",
       "      <td>992.000000</td>\n",
       "    </tr>\n",
       "    <tr>\n",
       "      <td>25%</td>\n",
       "      <td>0.000000</td>\n",
       "      <td>12.000000</td>\n",
       "      <td>10.000000</td>\n",
       "      <td>8.000000</td>\n",
       "      <td>11.000000</td>\n",
       "      <td>65.000000</td>\n",
       "      <td>1011.000000</td>\n",
       "    </tr>\n",
       "    <tr>\n",
       "      <td>50%</td>\n",
       "      <td>0.010000</td>\n",
       "      <td>18.000000</td>\n",
       "      <td>15.500000</td>\n",
       "      <td>14.000000</td>\n",
       "      <td>16.000000</td>\n",
       "      <td>71.000000</td>\n",
       "      <td>1015.000000</td>\n",
       "    </tr>\n",
       "    <tr>\n",
       "      <td>75%</td>\n",
       "      <td>0.720000</td>\n",
       "      <td>25.000000</td>\n",
       "      <td>22.500000</td>\n",
       "      <td>20.000000</td>\n",
       "      <td>22.000000</td>\n",
       "      <td>78.000000</td>\n",
       "      <td>1019.000000</td>\n",
       "    </tr>\n",
       "    <tr>\n",
       "      <td>max</td>\n",
       "      <td>42.000000</td>\n",
       "      <td>37.000000</td>\n",
       "      <td>30.000000</td>\n",
       "      <td>26.000000</td>\n",
       "      <td>56.000000</td>\n",
       "      <td>97.000000</td>\n",
       "      <td>1038.000000</td>\n",
       "    </tr>\n",
       "  </tbody>\n",
       "</table>\n",
       "</div>"
      ],
      "text/plain": [
       "              Rain      MaxTemp      AvgTemp      MinTemp      AvgWind  \\\n",
       "count  3896.000000  3896.000000  3896.000000  3896.000000  3896.000000   \n",
       "mean      0.946794    18.084189    15.929543    13.774897    16.989220   \n",
       "std       2.558308     7.613318     7.142182     6.865021     7.950417   \n",
       "min       0.000000    -3.000000    -3.500000    -5.000000     2.000000   \n",
       "25%       0.000000    12.000000    10.000000     8.000000    11.000000   \n",
       "50%       0.010000    18.000000    15.500000    14.000000    16.000000   \n",
       "75%       0.720000    25.000000    22.500000    20.000000    22.000000   \n",
       "max      42.000000    37.000000    30.000000    26.000000    56.000000   \n",
       "\n",
       "       AvgHumidity  AvgPressure  \n",
       "count  3896.000000  3896.000000  \n",
       "mean     71.414784  1015.281314  \n",
       "std       9.483500     6.284232  \n",
       "min      40.000000   992.000000  \n",
       "25%      65.000000  1011.000000  \n",
       "50%      71.000000  1015.000000  \n",
       "75%      78.000000  1019.000000  \n",
       "max      97.000000  1038.000000  "
      ]
     },
     "execution_count": 11,
     "metadata": {},
     "output_type": "execute_result"
    }
   ],
   "source": [
    "df.describe()"
   ]
  },
  {
   "cell_type": "code",
   "execution_count": 12,
   "metadata": {},
   "outputs": [
    {
     "data": {
      "text/plain": [
       "3896"
      ]
     },
     "execution_count": 12,
     "metadata": {},
     "output_type": "execute_result"
    }
   ],
   "source": [
    "len(df)"
   ]
  },
  {
   "cell_type": "code",
   "execution_count": 13,
   "metadata": {},
   "outputs": [
    {
     "data": {
      "text/html": [
       "<div>\n",
       "<style scoped>\n",
       "    .dataframe tbody tr th:only-of-type {\n",
       "        vertical-align: middle;\n",
       "    }\n",
       "\n",
       "    .dataframe tbody tr th {\n",
       "        vertical-align: top;\n",
       "    }\n",
       "\n",
       "    .dataframe thead th {\n",
       "        text-align: right;\n",
       "    }\n",
       "</style>\n",
       "<table border=\"1\" class=\"dataframe\">\n",
       "  <thead>\n",
       "    <tr style=\"text-align: right;\">\n",
       "      <th></th>\n",
       "      <th>Date</th>\n",
       "      <th>Conditions</th>\n",
       "      <th>Rain</th>\n",
       "      <th>MaxTemp</th>\n",
       "      <th>AvgTemp</th>\n",
       "      <th>MinTemp</th>\n",
       "      <th>SunRise</th>\n",
       "      <th>SunSet</th>\n",
       "      <th>AvgWind</th>\n",
       "      <th>AvgHumidity</th>\n",
       "      <th>AvgPressure</th>\n",
       "      <th>Rainig</th>\n",
       "    </tr>\n",
       "  </thead>\n",
       "  <tbody>\n",
       "    <tr>\n",
       "      <td>0</td>\n",
       "      <td>02.09.2019</td>\n",
       "      <td>Partly cloudy</td>\n",
       "      <td>0.00</td>\n",
       "      <td>27</td>\n",
       "      <td>24.5</td>\n",
       "      <td>22</td>\n",
       "      <td>6:32:00</td>\n",
       "      <td>19:37:00</td>\n",
       "      <td>23</td>\n",
       "      <td>66</td>\n",
       "      <td>1012</td>\n",
       "      <td>No rain</td>\n",
       "    </tr>\n",
       "    <tr>\n",
       "      <td>1</td>\n",
       "      <td>01.09.2019</td>\n",
       "      <td>Partly cloudy</td>\n",
       "      <td>0.00</td>\n",
       "      <td>27</td>\n",
       "      <td>24.5</td>\n",
       "      <td>22</td>\n",
       "      <td>6:31:00</td>\n",
       "      <td>19:38:00</td>\n",
       "      <td>21</td>\n",
       "      <td>66</td>\n",
       "      <td>1011</td>\n",
       "      <td>No rain</td>\n",
       "    </tr>\n",
       "    <tr>\n",
       "      <td>2</td>\n",
       "      <td>31.08.2019</td>\n",
       "      <td>Patchy rain possible</td>\n",
       "      <td>0.50</td>\n",
       "      <td>26</td>\n",
       "      <td>24.0</td>\n",
       "      <td>22</td>\n",
       "      <td>6:30:00</td>\n",
       "      <td>19:40:00</td>\n",
       "      <td>22</td>\n",
       "      <td>63</td>\n",
       "      <td>1015</td>\n",
       "      <td>Chances of rain</td>\n",
       "    </tr>\n",
       "    <tr>\n",
       "      <td>3</td>\n",
       "      <td>30.08.2019</td>\n",
       "      <td>Partly cloudy</td>\n",
       "      <td>0.00</td>\n",
       "      <td>27</td>\n",
       "      <td>24.5</td>\n",
       "      <td>22</td>\n",
       "      <td>6:29:00</td>\n",
       "      <td>19:42:00</td>\n",
       "      <td>20</td>\n",
       "      <td>64</td>\n",
       "      <td>1016</td>\n",
       "      <td>No rain</td>\n",
       "    </tr>\n",
       "    <tr>\n",
       "      <td>4</td>\n",
       "      <td>29.08.2019</td>\n",
       "      <td>Partly cloudy</td>\n",
       "      <td>0.00</td>\n",
       "      <td>27</td>\n",
       "      <td>25.0</td>\n",
       "      <td>23</td>\n",
       "      <td>6:27:00</td>\n",
       "      <td>19:43:00</td>\n",
       "      <td>24</td>\n",
       "      <td>61</td>\n",
       "      <td>1015</td>\n",
       "      <td>No rain</td>\n",
       "    </tr>\n",
       "    <tr>\n",
       "      <td>...</td>\n",
       "      <td>...</td>\n",
       "      <td>...</td>\n",
       "      <td>...</td>\n",
       "      <td>...</td>\n",
       "      <td>...</td>\n",
       "      <td>...</td>\n",
       "      <td>...</td>\n",
       "      <td>...</td>\n",
       "      <td>...</td>\n",
       "      <td>...</td>\n",
       "      <td>...</td>\n",
       "      <td>...</td>\n",
       "    </tr>\n",
       "    <tr>\n",
       "      <td>3891</td>\n",
       "      <td>05.01.2009</td>\n",
       "      <td>Overcast</td>\n",
       "      <td>4.32</td>\n",
       "      <td>5</td>\n",
       "      <td>4.0</td>\n",
       "      <td>3</td>\n",
       "      <td>8:29:00</td>\n",
       "      <td>17:50:00</td>\n",
       "      <td>15</td>\n",
       "      <td>97</td>\n",
       "      <td>1015</td>\n",
       "      <td>Chances of rain</td>\n",
       "    </tr>\n",
       "    <tr>\n",
       "      <td>3892</td>\n",
       "      <td>04.01.2009</td>\n",
       "      <td>Mist</td>\n",
       "      <td>2.91</td>\n",
       "      <td>5</td>\n",
       "      <td>4.0</td>\n",
       "      <td>3</td>\n",
       "      <td>8:29:00</td>\n",
       "      <td>17:49:00</td>\n",
       "      <td>9</td>\n",
       "      <td>94</td>\n",
       "      <td>1014</td>\n",
       "      <td>Chances of rain</td>\n",
       "    </tr>\n",
       "    <tr>\n",
       "      <td>3893</td>\n",
       "      <td>03.01.2009</td>\n",
       "      <td>Overcast</td>\n",
       "      <td>0.08</td>\n",
       "      <td>5</td>\n",
       "      <td>4.0</td>\n",
       "      <td>3</td>\n",
       "      <td>8:29:00</td>\n",
       "      <td>17:48:00</td>\n",
       "      <td>16</td>\n",
       "      <td>94</td>\n",
       "      <td>1021</td>\n",
       "      <td>Chances of rain</td>\n",
       "    </tr>\n",
       "    <tr>\n",
       "      <td>3894</td>\n",
       "      <td>02.01.2009</td>\n",
       "      <td>Overcast</td>\n",
       "      <td>4.48</td>\n",
       "      <td>4</td>\n",
       "      <td>2.5</td>\n",
       "      <td>1</td>\n",
       "      <td>8:29:00</td>\n",
       "      <td>17:48:00</td>\n",
       "      <td>12</td>\n",
       "      <td>89</td>\n",
       "      <td>1021</td>\n",
       "      <td>Chances of rain</td>\n",
       "    </tr>\n",
       "    <tr>\n",
       "      <td>3895</td>\n",
       "      <td>01.01.2009</td>\n",
       "      <td>Partly cloudy</td>\n",
       "      <td>0.23</td>\n",
       "      <td>5</td>\n",
       "      <td>3.5</td>\n",
       "      <td>2</td>\n",
       "      <td>8:29:00</td>\n",
       "      <td>17:47:00</td>\n",
       "      <td>10</td>\n",
       "      <td>90</td>\n",
       "      <td>1027</td>\n",
       "      <td>Chances of rain</td>\n",
       "    </tr>\n",
       "  </tbody>\n",
       "</table>\n",
       "<p>3896 rows × 12 columns</p>\n",
       "</div>"
      ],
      "text/plain": [
       "            Date            Conditions  Rain  MaxTemp  AvgTemp  MinTemp  \\\n",
       "0     02.09.2019         Partly cloudy  0.00       27     24.5       22   \n",
       "1     01.09.2019         Partly cloudy  0.00       27     24.5       22   \n",
       "2     31.08.2019  Patchy rain possible  0.50       26     24.0       22   \n",
       "3     30.08.2019         Partly cloudy  0.00       27     24.5       22   \n",
       "4     29.08.2019         Partly cloudy  0.00       27     25.0       23   \n",
       "...          ...                   ...   ...      ...      ...      ...   \n",
       "3891  05.01.2009              Overcast  4.32        5      4.0        3   \n",
       "3892  04.01.2009                  Mist  2.91        5      4.0        3   \n",
       "3893  03.01.2009              Overcast  0.08        5      4.0        3   \n",
       "3894  02.01.2009              Overcast  4.48        4      2.5        1   \n",
       "3895  01.01.2009         Partly cloudy  0.23        5      3.5        2   \n",
       "\n",
       "      SunRise    SunSet  AvgWind  AvgHumidity  AvgPressure           Rainig  \n",
       "0     6:32:00  19:37:00       23           66         1012          No rain  \n",
       "1     6:31:00  19:38:00       21           66         1011          No rain  \n",
       "2     6:30:00  19:40:00       22           63         1015  Chances of rain  \n",
       "3     6:29:00  19:42:00       20           64         1016          No rain  \n",
       "4     6:27:00  19:43:00       24           61         1015          No rain  \n",
       "...       ...       ...      ...          ...          ...              ...  \n",
       "3891  8:29:00  17:50:00       15           97         1015  Chances of rain  \n",
       "3892  8:29:00  17:49:00        9           94         1014  Chances of rain  \n",
       "3893  8:29:00  17:48:00       16           94         1021  Chances of rain  \n",
       "3894  8:29:00  17:48:00       12           89         1021  Chances of rain  \n",
       "3895  8:29:00  17:47:00       10           90         1027  Chances of rain  \n",
       "\n",
       "[3896 rows x 12 columns]"
      ]
     },
     "execution_count": 13,
     "metadata": {},
     "output_type": "execute_result"
    }
   ],
   "source": [
    "# adding a column for rain chances\n",
    "df['Rainig'] = np.where(df['Rain'] >0, 'Chances of rain', 'No rain')\n",
    "df"
   ]
  },
  {
   "cell_type": "code",
   "execution_count": 2,
   "metadata": {},
   "outputs": [
    {
     "data": {
      "text/plain": [
       "array([   0,    1,    2, ..., 3893, 3894, 3895])"
      ]
     },
     "execution_count": 2,
     "metadata": {},
     "output_type": "execute_result"
    }
   ],
   "source": [
    "# graph for average temperature date wise\n",
    "ypos=np.arange(len(df['Date']))\n",
    "ypos"
   ]
  },
  {
   "cell_type": "code",
   "execution_count": 4,
   "metadata": {},
   "outputs": [
    {
     "data": {
      "text/plain": [
       "<matplotlib.legend.Legend at 0x29a97629b08>"
      ]
     },
     "execution_count": 4,
     "metadata": {},
     "output_type": "execute_result"
    },
    {
     "data": {
      "image/png": "[encoded data removed]",
      "text/plain": [
       "<Figure size 2160x720 with 1 Axes>"
      ]
     },
     "metadata": {
      "needs_background": "light"
     },
     "output_type": "display_data"
    }
   ],
   "source": [
    "plt.figure(figsize=[30,10])\n",
    "plt.xticks(ypos,df['Date'])\n",
    "plt.ylabel(\"df['AvgTemp'(bin)]\")\n",
    "plt.title('WEATHER')\n",
    "plt.bar(ypos,df['AvgTemp'],label='avgem')\n",
    "plt.legend()"
   ]
  },
  {
   "cell_type": "code",
   "execution_count": 5,
   "metadata": {},
   "outputs": [
    {
     "data": {
      "text/plain": [
       "Text(0.5, 1.0, 'Weather')"
      ]
     },
     "execution_count": 5,
     "metadata": {},
     "output_type": "execute_result"
    },
    {
     "data": {
      "image/png": "[encoded data removed]",
      "text/plain": [
       "<Figure size 720x504 with 1 Axes>"
      ]
     },
     "metadata": {
      "needs_background": "light"
     },
     "output_type": "display_data"
    }
   ],
   "source": [
    "# average temperature graph\n",
    "plt.figure(figsize=[10,7])\n",
    "plt.hist(df['AvgTemp'])\n",
    "plt.title('Weather')"
   ]
  },
  {
   "cell_type": "code",
   "execution_count": 15,
   "metadata": {},
   "outputs": [
    {
     "data": {
      "text/plain": [
       "Text(0.5, 1.0, 'Weather')"
      ]
     },
     "execution_count": 15,
     "metadata": {},
     "output_type": "execute_result"
    },
    {
     "data": {
      "image/png": "[encoded data removed]",
      "text/plain": [
       "<Figure size 720x504 with 1 Axes>"
      ]
     },
     "metadata": {
      "needs_background": "light"
     },
     "output_type": "display_data"
    }
   ],
   "source": [
    "# graph for average pressure\n",
    "plt.figure(figsize=[10,7])\n",
    "plt.hist(df['AvgPressure'])\n",
    "plt.title('Weather')"
   ]
  },
  {
   "cell_type": "markdown",
   "metadata": {},
   "source": [
    "# Thank You"
   ]
  }
 ],
 "metadata": {
  "kernelspec": {
   "display_name": "Python 3",
   "language": "python",
   "name": "python3"
  },
  "language_info": {
   "codemirror_mode": {
    "name": "ipython",
    "version": 3
   },
   "file_extension": ".py",
   "mimetype": "text/x-python",
   "name": "python",
   "nbconvert_exporter": "python",
   "pygments_lexer": "ipython3",
   "version": "3.7.4"
  }
 },
 "nbformat": 4,
 "nbformat_minor": 2
}
