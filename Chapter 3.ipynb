{
 "cells": [
  {
   "cell_type": "markdown",
   "metadata": {},
   "source": [
    "# 3.31"
   ]
  },
  {
   "cell_type": "code",
   "execution_count": 2,
   "metadata": {},
   "outputs": [
    {
     "name": "stdout",
     "output_type": "stream",
     "text": [
      "enter any strig :Shera\n",
      "arehS\n"
     ]
    }
   ],
   "source": [
    "x=input(\"enter any strig :\")\n",
    "print(x[::-1])"
   ]
  },
  {
   "cell_type": "markdown",
   "metadata": {},
   "source": [
    "#     3.32"
   ]
  },
  {
   "cell_type": "code",
   "execution_count": 3,
   "metadata": {},
   "outputs": [
    {
     "name": "stdout",
     "output_type": "stream",
     "text": [
      "enter hourly wage300\n",
      "enter hours employee work last week50\n",
      "15000\n",
      "450.0\n"
     ]
    }
   ],
   "source": [
    "def pay():\n",
    "    x=eval(input('enter hourly wage'))\n",
    "    y=eval(input('enter hours employee work last week'))\n",
    "    pay=x*y\n",
    "    print(pay)\n",
    "    if x >40:\n",
    "        overtime=x*1.5\n",
    "        print(overtime)\n",
    "pay()"
   ]
  },
  {
   "cell_type": "code",
   "execution_count": 10,
   "metadata": {},
   "outputs": [
    {
     "name": "stdout",
     "output_type": "stream",
     "text": [
      "0.25\n"
     ]
    }
   ],
   "source": [
    "def prop(n):\n",
    "    #chances of getting head\n",
    "    no_of_chances=2**n\n",
    "    no_of_possibilities=n/2\n",
    "    proportion=no_of_possibilities/no_of_chances\n",
    "    print(proportion)\n",
    "prop(1)"
   ]
  },
  {
   "cell_type": "code",
   "execution_count": 16,
   "metadata": {},
   "outputs": [
    {
     "name": "stdout",
     "output_type": "stream",
     "text": [
      "321\n"
     ]
    }
   ],
   "source": [
    "x=123\n",
    "y=str(x)\n",
    "print(y[::-1])"
   ]
  },
  {
   "cell_type": "code",
   "execution_count": 31,
   "metadata": {},
   "outputs": [
    {
     "name": "stdout",
     "output_type": "stream",
     "text": [
      "t u\n"
     ]
    }
   ],
   "source": [
    "def f(x):\n",
    "    z=x.split()\n",
    "    for y in z:\n",
    "        print(y[0],y[1])\n",
    "f('tuesday')"
   ]
  },
  {
   "cell_type": "code",
   "execution_count": 34,
   "metadata": {},
   "outputs": [
    {
     "name": "stdout",
     "output_type": "stream",
     "text": [
      "True\n"
     ]
    }
   ],
   "source": [
    "from math import sqrt\n",
    "def collision(x1,y1,r1,x2,y2,r2):\n",
    "    dis_btwn_radius=sqrt(((x2-x1)**2)+((y2-y1)**2))\n",
    "    sum_of_radius=r1+r2\n",
    "    if sum_of_radius>=dis_btwn_radius:\n",
    "        print(True)\n",
    "    else:\n",
    "        print(False)\n",
    "collision(0,0,3,0,5,3)"
   ]
  },
  {
   "cell_type": "code",
   "execution_count": 36,
   "metadata": {},
   "outputs": [
    {
     "name": "stdout",
     "output_type": "stream",
     "text": [
      "Ali\n",
      "Muteeb\n",
      "not selected\n"
     ]
    }
   ],
   "source": [
    "def partition(x):\n",
    "    \n",
    "    for a in x:\n",
    "        if a[0] in 'ABCDEFGHIJKLM':\n",
    "            print(a)\n",
    "    else:\n",
    "        print('not selected')\n",
    "partition(['Ali' ,'WAqqqq','Muteeb','Shera'] )\n",
    "    "
   ]
  },
  {
   "cell_type": "code",
   "execution_count": 43,
   "metadata": {},
   "outputs": [
    {
     "name": "stdout",
     "output_type": "stream",
     "text": [
      "muteeb a\n"
     ]
    }
   ],
   "source": [
    "def f(frstname,lastname):\n",
    "    print(lastname,frstname[0])\n",
    "f('abdul','muteeb')\n",
    "    "
   ]
  },
  {
   "cell_type": "code",
   "execution_count": 166,
   "metadata": {},
   "outputs": [
    {
     "name": "stdout",
     "output_type": "stream",
     "text": [
      "congratulate\n"
     ]
    }
   ],
   "source": [
    "def ion2e(x):\n",
    "    \n",
    "    if x[-3:] =='ion':\n",
    "        y=x[-3:].replace('ion','e')\n",
    "        z=x.rstrip('ion')\n",
    "        \n",
    "        print(z+y)\n",
    "        \n",
    "        \n",
    "        \n",
    "    else:\n",
    "        print(False)\n",
    "ion2e('congratulation')"
   ]
  },
  {
   "cell_type": "code",
   "execution_count": 155,
   "metadata": {},
   "outputs": [],
   "source": []
  },
  {
   "cell_type": "code",
   "execution_count": null,
   "metadata": {},
   "outputs": [],
   "source": []
  },
  {
   "cell_type": "code",
   "execution_count": null,
   "metadata": {},
   "outputs": [],
   "source": []
  },
  {
   "cell_type": "code",
   "execution_count": null,
   "metadata": {},
   "outputs": [],
   "source": []
  },
  {
   "cell_type": "code",
   "execution_count": null,
   "metadata": {},
   "outputs": [],
   "source": []
  },
  {
   "cell_type": "code",
   "execution_count": null,
   "metadata": {},
   "outputs": [],
   "source": []
  },
  {
   "cell_type": "code",
   "execution_count": null,
   "metadata": {},
   "outputs": [],
   "source": []
  },
  {
   "cell_type": "code",
   "execution_count": null,
   "metadata": {},
   "outputs": [],
   "source": []
  },
  {
   "cell_type": "code",
   "execution_count": null,
   "metadata": {},
   "outputs": [],
   "source": []
  },
  {
   "cell_type": "code",
   "execution_count": null,
   "metadata": {},
   "outputs": [],
   "source": []
  },
  {
   "cell_type": "code",
   "execution_count": 170,
   "metadata": {},
   "outputs": [
    {
     "name": "stdout",
     "output_type": "stream",
     "text": [
      "observate\n"
     ]
    }
   ],
   "source": [
    "def q(x):\n",
    "    if x[-3:]=='ion':\n",
    "        y=x[-3:].replace('ion','e')\n",
    "        z=x.rstrip('ion')\n",
    "        print(z+y)\n",
    "q('observation')"
   ]
  },
  {
   "cell_type": "code",
   "execution_count": null,
   "metadata": {},
   "outputs": [],
   "source": []
  }
 ],
 "metadata": {
  "kernelspec": {
   "display_name": "Python 3",
   "language": "python",
   "name": "python3"
  },
  "language_info": {
   "codemirror_mode": {
    "name": "ipython",
    "version": 3
   },
   "file_extension": ".py",
   "mimetype": "text/x-python",
   "name": "python",
   "nbconvert_exporter": "python",
   "pygments_lexer": "ipython3",
   "version": "3.7.4"
  }
 },
 "nbformat": 4,
 "nbformat_minor": 2
}
