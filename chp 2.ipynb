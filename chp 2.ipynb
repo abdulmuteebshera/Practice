{
 "cells": [
  {
   "cell_type": "markdown",
   "metadata": {},
   "source": [
    "# Ques 01"
   ]
  },
  {
   "cell_type": "code",
   "execution_count": 11,
   "metadata": {},
   "outputs": [
    {
     "name": "stdout",
     "output_type": "stream",
     "text": [
      "28\n"
     ]
    }
   ],
   "source": [
    "total=0\n",
    "sum=1\n",
    "while sum<=7:\n",
    "    total=total+sum\n",
    "    sum=sum+1\n",
    "print(total)"
   ]
  },
  {
   "cell_type": "code",
   "execution_count": 14,
   "metadata": {},
   "outputs": [
    {
     "name": "stdout",
     "output_type": "stream",
     "text": [
      "55.666666666666664\n"
     ]
    }
   ],
   "source": [
    "sara_age=65\n",
    "fatima_age=57\n",
    "mark_age=45\n",
    "average_age=(sara_age +fatima_age +mark_age)/3\n",
    "print (average_age)"
   ]
  },
  {
   "cell_type": "code",
   "execution_count": 15,
   "metadata": {},
   "outputs": [
    {
     "name": "stdout",
     "output_type": "stream",
     "text": [
      "1048576\n"
     ]
    }
   ],
   "source": [
    "print(2**20)"
   ]
  },
  {
   "cell_type": "code",
   "execution_count": 16,
   "metadata": {},
   "outputs": [
    {
     "name": "stdout",
     "output_type": "stream",
     "text": [
      "71.40983606557377\n"
     ]
    }
   ],
   "source": [
    "print(4356/61)"
   ]
  },
  {
   "cell_type": "code",
   "execution_count": 18,
   "metadata": {},
   "outputs": [
    {
     "name": "stdout",
     "output_type": "stream",
     "text": [
      "25\n"
     ]
    }
   ],
   "source": [
    "print(4356%61)"
   ]
  },
  {
   "cell_type": "markdown",
   "metadata": {},
   "source": [
    "# Ques 2"
   ]
  },
  {
   "cell_type": "code",
   "execution_count": 24,
   "metadata": {},
   "outputs": [
    {
     "name": "stdout",
     "output_type": "stream",
     "text": [
      "-+\n",
      "--+\n",
      "+--+--\n",
      "+--+--+--+--+--+--+--+--+\n"
     ]
    }
   ],
   "source": [
    "s1='-'\n",
    "s2='+'\n",
    "print(s1+s2)\n",
    "print(2*s1+s2)\n",
    "print(s2+2*s1+s2+2*s1)\n",
    "print(s2+2*s1+s2+2*s1+s2+2*s1+s2+2*s1+s2+2*s1+s2+2*s1+s2+2*s1+s2+2*s1+s2)"
   ]
  },
  {
   "cell_type": "markdown",
   "metadata": {},
   "source": [
    "# Ques 03 "
   ]
  },
  {
   "cell_type": "code",
   "execution_count": 27,
   "metadata": {},
   "outputs": [
    {
     "name": "stdout",
     "output_type": "stream",
     "text": [
      "a c z y q\n"
     ]
    }
   ],
   "source": [
    "s=\"abcdefghijklmnopqrstuvwxyz\"\n",
    "print(s[0],s[2],s[25],s[24],s[16])"
   ]
  },
  {
   "cell_type": "markdown",
   "metadata": {},
   "source": [
    "# Ques 04"
   ]
  },
  {
   "cell_type": "code",
   "execution_count": 49,
   "metadata": {},
   "outputs": [
    {
     "name": "stdout",
     "output_type": "stream",
     "text": [
      "True\n",
      "False\n"
     ]
    }
   ],
   "source": [
    "s='goodbye'\n",
    "if s[0]==s[0]:\n",
    "    print(True)\n",
    "if s[1]==s[6]:\n",
    "    print(True)\n",
    "else:\n",
    "    print(False)"
   ]
  },
  {
   "cell_type": "markdown",
   "metadata": {},
   "source": [
    "\n",
    "# Ques 05"
   ]
  },
  {
   "cell_type": "code",
   "execution_count": 12,
   "metadata": {},
   "outputs": [
    {
     "name": "stdout",
     "output_type": "stream",
     "text": [
      "6.5\n",
      " john fitzgerald kennedy\n",
      "False\n"
     ]
    }
   ],
   "source": [
    "a=6\n",
    "b=7\n",
    "c=(a+b)/2\n",
    "print(c)\n",
    "x=(' john')\n",
    "y=( ' fitzgerald')\n",
    "z=( ' kennedy')\n",
    "g=x+y+z\n",
    "print(g)\n",
    "print(x<y<z)\n"
   ]
  },
  {
   "cell_type": "markdown",
   "metadata": {},
   "source": [
    "# Ques 06"
   ]
  },
  {
   "cell_type": "code",
   "execution_count": 5,
   "metadata": {},
   "outputs": [
    {
     "name": "stdout",
     "output_type": "stream",
     "text": [
      "True\n",
      "False\n",
      "True\n",
      "True\n"
     ]
    }
   ],
   "source": [
    "print(17-9<10)\n",
    "inventory=['paper','staples','pencil']\n",
    "fullname=['john fitzgeral kennedy']\n",
    "print(len(inventory)>5*(len(fullname)))\n",
    "a=6\n",
    "b=7\n",
    "c=(a+b)/2\n",
    "print(c<24)\n",
    "print(a<6.75<b)\n"
   ]
  },
  {
   "cell_type": "code",
   "execution_count": 9,
   "metadata": {},
   "outputs": [
    {
     "data": {
      "text/plain": [
       "5"
      ]
     },
     "execution_count": 9,
     "metadata": {},
     "output_type": "execute_result"
    }
   ],
   "source": [
    "a=('adcsd')\n",
    "len(a)"
   ]
  },
  {
   "cell_type": "markdown",
   "metadata": {},
   "source": [
    "# Ques 07"
   ]
  },
  {
   "cell_type": "code",
   "execution_count": 21,
   "metadata": {},
   "outputs": [
    {
     "name": "stdout",
     "output_type": "stream",
     "text": [
      "False\n",
      "['rose', 'bougainvillea', 'yuggra', 'lilly of the valley']\n"
     ]
    }
   ],
   "source": [
    "flower=['rose','bougainvillea','yuggra','marigold','daylilly','lilly of the valley']\n",
    "thorny=['rose','bougainvillea','yuggra']\n",
    "poinuous=['lilly of the valley']\n",
    "if 'potato' in flower:\n",
    "    print(True)\n",
    "else:\n",
    "    print(False)\n",
    "dangerous=thorny+poinuous\n",
    "print(dangerous)"
   ]
  },
  {
   "cell_type": "code",
   "execution_count": 35,
   "metadata": {},
   "outputs": [
    {
     "name": "stdout",
     "output_type": "stream",
     "text": [
      "2\n",
      "3\n",
      "5\n",
      "7\n",
      "11\n",
      "13\n",
      "17\n",
      "19\n",
      "23\n",
      "29\n",
      "31\n",
      "37\n",
      "41\n",
      "43\n",
      "47\n",
      "53\n",
      "59\n",
      "61\n",
      "67\n",
      "71\n",
      "73\n",
      "79\n",
      "83\n",
      "89\n",
      "97\n"
     ]
    }
   ],
   "source": [
    "for t in range (1,101):\n",
    "    if t>1:\n",
    "        for i in range(2,t):\n",
    "            if t%i==0:\n",
    "                break\n",
    "        else:\n",
    "            print(t)\n",
    "           "
   ]
  },
  {
   "cell_type": "code",
   "execution_count": 36,
   "metadata": {},
   "outputs": [
    {
     "name": "stdout",
     "output_type": "stream",
     "text": [
      "2\n",
      "4\n",
      "6\n",
      "8\n",
      "10\n",
      "12\n",
      "14\n",
      "16\n",
      "18\n",
      "20\n",
      "22\n",
      "24\n",
      "26\n",
      "28\n",
      "30\n",
      "32\n",
      "34\n",
      "36\n",
      "38\n",
      "40\n",
      "42\n",
      "44\n",
      "46\n",
      "48\n",
      "50\n",
      "52\n",
      "54\n",
      "56\n",
      "58\n",
      "60\n",
      "62\n",
      "64\n",
      "66\n",
      "68\n",
      "70\n",
      "72\n",
      "74\n",
      "76\n",
      "78\n",
      "80\n",
      "82\n",
      "84\n",
      "86\n",
      "88\n",
      "90\n",
      "92\n",
      "94\n",
      "96\n",
      "98\n"
     ]
    }
   ],
   "source": [
    "for t in range (1,100):\n",
    "    if t%2==0:\n",
    "        print(t)"
   ]
  },
  {
   "cell_type": "code",
   "execution_count": 47,
   "metadata": {},
   "outputs": [
    {
     "name": "stdout",
     "output_type": "stream",
     "text": [
      "55\n"
     ]
    }
   ],
   "source": [
    "x=0\n",
    "y=1\n",
    "while y<11:\n",
    "    x=x+y\n",
    "    y=y+1\n",
    "print(x)\n",
    "\n",
    "    "
   ]
  },
  {
   "cell_type": "code",
   "execution_count": 48,
   "metadata": {},
   "outputs": [
    {
     "name": "stdout",
     "output_type": "stream",
     "text": [
      "['may', 'mar', 'jan', 'feb']\n"
     ]
    },
    {
     "ename": "AttributeError",
     "evalue": "'tuple' object has no attribute 'sort'",
     "output_type": "error",
     "traceback": [
      "\u001b[1;31m---------------------------------------------------------------------------\u001b[0m",
      "\u001b[1;31mAttributeError\u001b[0m                            Traceback (most recent call last)",
      "\u001b[1;32m<ipython-input-48-7a93da0137f3>\u001b[0m in \u001b[0;36m<module>\u001b[1;34m\u001b[0m\n\u001b[0;32m      3\u001b[0m \u001b[0mmonthsL\u001b[0m\u001b[1;33m.\u001b[0m\u001b[0msort\u001b[0m\u001b[1;33m(\u001b[0m\u001b[0mreverse\u001b[0m\u001b[1;33m=\u001b[0m \u001b[1;32mTrue\u001b[0m\u001b[1;33m)\u001b[0m\u001b[1;33m\u001b[0m\u001b[1;33m\u001b[0m\u001b[0m\n\u001b[0;32m      4\u001b[0m \u001b[0mprint\u001b[0m\u001b[1;33m(\u001b[0m\u001b[0mmonthsL\u001b[0m\u001b[1;33m)\u001b[0m\u001b[1;33m\u001b[0m\u001b[1;33m\u001b[0m\u001b[0m\n\u001b[1;32m----> 5\u001b[1;33m \u001b[0mmonthsT\u001b[0m\u001b[1;33m.\u001b[0m\u001b[0msort\u001b[0m\u001b[1;33m(\u001b[0m\u001b[0mreverse\u001b[0m\u001b[1;33m=\u001b[0m \u001b[1;32mTrue\u001b[0m\u001b[1;33m)\u001b[0m\u001b[1;33m\u001b[0m\u001b[1;33m\u001b[0m\u001b[0m\n\u001b[0m\u001b[0;32m      6\u001b[0m \u001b[0mprint\u001b[0m\u001b[1;33m(\u001b[0m\u001b[0mmonthsT\u001b[0m\u001b[1;33m)\u001b[0m\u001b[1;33m\u001b[0m\u001b[1;33m\u001b[0m\u001b[0m\n",
      "\u001b[1;31mAttributeError\u001b[0m: 'tuple' object has no attribute 'sort'"
     ]
    }
   ],
   "source": [
    "monthsL = ['jan','feb','mar','may']\n",
    "monthsT = ('jan', 'feb','mar','may')\n",
    "monthsL.sort(reverse= True)\n",
    "print(monthsL)\n",
    "monthsT.sort(reverse= True)\n",
    "print(monthsT)"
   ]
  },
  {
   "cell_type": "code",
   "execution_count": null,
   "metadata": {},
   "outputs": [],
   "source": [
    "import math\n",
    "r=10\n",
    "X=0\n",
    "Y=0\n",
    "a= math.sqrt((0-0)**2 + (0-0)**2)\n",
    "if a<r:\n",
    "    print('hit')\n",
    "else:\n",
    "    print('miss')\n"
   ]
  },
  {
   "cell_type": "code",
   "execution_count": null,
   "metadata": {},
   "outputs": [],
   "source": [
    "b= math.sqrt((10-0)**2 + (10-0)**2)\n",
    "if b<r:\n",
    "    print('hit')\n",
    "else:\n",
    "    print('miss')"
   ]
  },
  {
   "cell_type": "code",
   "execution_count": null,
   "metadata": {},
   "outputs": [],
   "source": [
    "c= math.sqrt((6-0)**2 + (6-0)**2)\n",
    "if c<r:\n",
    "    print('hit')\n",
    "else:\n",
    "    print('miss')\n"
   ]
  },
  {
   "cell_type": "code",
   "execution_count": null,
   "metadata": {},
   "outputs": [],
   "source": [
    "d= math.sqrt((8-0)**2 + (7-0)**2)\n",
    "if d<r:\n",
    "    print('hit')\n",
    "else:\n",
    "    print('miss')\n"
   ]
  },
  {
   "cell_type": "code",
   "execution_count": null,
   "metadata": {},
   "outputs": [],
   "source": [
    "from math import sin\n",
    "from math import pi\n",
    "#a) 16 feet and 75 degree \n",
    "height = 16 * sin(pi * (75/180))\n",
    "print(\"answer a)\" + str(height))\n",
    "#b) 20 feet and 0 degree\n",
    "height = 20 * sin(pi * (0/180))\n",
    "print(\"answer b)\" + str(height))\n",
    "#c) 24 feet and 45 degree\n",
    "height = 24 * sin(pi* (45/180))\n",
    "print(\"answer c)\" + str(height))\n",
    "#d) 24 feet and 80 degree\n",
    "height = 24 * sin(pi *(80/180))\n",
    "print(\"answer d)\" + str(height))"
   ]
  },
  {
   "cell_type": "code",
   "execution_count": 49,
   "metadata": {},
   "outputs": [
    {
     "name": "stdout",
     "output_type": "stream",
     "text": [
      "3\n",
      "middle element of the list is:10\n",
      "[12, 10, 9, 8, 7, 5, 2]\n",
      "[10, 9, 8, 7, 5, 2, 12]\n"
     ]
    }
   ],
   "source": [
    "lst = [2, 5, 7, 10, 8, 9, 12]\n",
    "#a) index of middle element\n",
    "mid_index = int(len(lst)/2)\n",
    "print(mid_index)\n",
    "#b) middle element of list \n",
    "print(\"middle element of the list is:\" + str(lst[3]))\n",
    "#c) sorting list in descending order\n",
    "lst.sort(reverse= True)\n",
    "print(lst)\n",
    "#d) remove and extend\n",
    "lst.remove(12)\n",
    "lst.extend([12])\n",
    "print(lst)"
   ]
  },
  {
   "cell_type": "code",
   "execution_count": null,
   "metadata": {},
   "outputs": [],
   "source": []
  }
 ],
 "metadata": {
  "kernelspec": {
   "display_name": "Python 3",
   "language": "python",
   "name": "python3"
  },
  "language_info": {
   "codemirror_mode": {
    "name": "ipython",
    "version": 3
   },
   "file_extension": ".py",
   "mimetype": "text/x-python",
   "name": "python",
   "nbconvert_exporter": "python",
   "pygments_lexer": "ipython3",
   "version": "3.7.4"
  }
 },
 "nbformat": 4,
 "nbformat_minor": 2
}
