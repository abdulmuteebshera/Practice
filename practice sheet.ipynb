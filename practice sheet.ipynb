#PF (SYED FAISAL ALI)

#PRACTICE SHEET
{
 "cells": [
  {
   "cell_type": "code",
   "execution_count": 63,
   "metadata": {},
   "outputs": [
    {
     "name": "stdout",
     "output_type": "stream",
     "text": [
      "16.31318590217984\n",
      "None\n"
     ]
    }
   ],
   "source": [
    "def f(a,b):\n",
    "    y=3.142*a**2\n",
    "    x=(sqrt(3)/4)*(b**2)*(6)\n",
    "    print(x-y)\n",
    "print(f(1.5,3))"
   ]
  },
  {
   "cell_type": "code",
   "execution_count": 104,
   "metadata": {},
   "outputs": [
    {
     "data": {
      "text/plain": [
       "'nadeem'"
      ]
     },
     "execution_count": 104,
     "metadata": {},
     "output_type": "execute_result"
    }
   ],
   "source": [
    "def f(x):\n",
    "    dict = {'abbu':'nadeem' , 'brother':'Rahim' , 'sister':'xyz' , 'mother':'abc'}\n",
    "    relation=dict[x]\n",
    "    return relation\n",
    "f('abbu')"
   ]
  },
  {
   "cell_type": "code",
   "execution_count": 81,
   "metadata": {},
   "outputs": [
    {
     "name": "stdout",
     "output_type": "stream",
     "text": [
      "15.904312808798327\n",
      "None\n"
     ]
    }
   ],
   "source": [
    "from math import pi\n",
    "def radius(x):\n",
    "    y=pi*x**2\n",
    "    print(y)\n",
    "print(radius(2.25))"
   ]
  },
  {
   "cell_type": "raw",
   "metadata": {},
   "source": [
    "def even"
   ]
  },
  {
   "cell_type": "code",
   "execution_count": 106,
   "metadata": {},
   "outputs": [
    {
     "name": "stdout",
     "output_type": "stream",
     "text": [
      "No even found!\n",
      "2\n",
      "sum of even numbers is: 2\n",
      "No even found!\n",
      "4\n",
      "sum of even numbers is: 6\n",
      "No even found!\n",
      "6\n",
      "sum of even numbers is: 12\n",
      "No even found!\n",
      "8\n",
      "sum of even numbers is: 20\n",
      "No even found!\n",
      "10\n",
      "sum of even numbers is: 30\n",
      "No even found!\n",
      "12\n",
      "sum of even numbers is: 42\n"
     ]
    }
   ],
   "source": [
    "\n",
    "def even(num):\n",
    "    s=0\n",
    "    for i in num:\n",
    "        if i%2==0:\n",
    "            print(i)\n",
    "            s = s+i\n",
    "            print(\"sum of even numbers is:\",s)\n",
    "        else:\n",
    "            print(\"No even found!\")\n",
    "even([1,2,3,4,5,6,7,8,9,10,11,12])\n"
   ]
  },
  {
   "cell_type": "code",
   "execution_count": 1,
   "metadata": {},
   "outputs": [
    {
     "name": "stdout",
     "output_type": "stream",
     "text": [
      "Enter a number: 12\n",
      "Enter a number: 13\n",
      "Enter a number: 14\n",
      "Enter a number: 15\n"
     ]
    },
    {
     "data": {
      "text/plain": [
       "[12, 13, 14, 15]"
      ]
     },
     "execution_count": 1,
     "metadata": {},
     "output_type": "execute_result"
    }
   ],
   "source": [
    "def f(x):\n",
    "    x.sort()\n",
    "    return x\n",
    "num=[]\n",
    "a=eval(input('Enter a number: '))\n",
    "b=eval(input('Enter a number: '))\n",
    "c=eval(input('Enter a number: '))\n",
    "d=eval(input('Enter a number: '))\n",
    "num.append(a)\n",
    "num.append(b)\n",
    "num.append(c)\n",
    "num.append(d)\n",
    "f(num)"
   ]
  },
  {
   "cell_type": "code",
   "execution_count": null,
   "metadata": {},
   "outputs": [],
   "source": [
    "from math import pi\n",
    "def area(r):\n",
    "    area_circle=pi*(r**2)\n",
    "    a = area_circle+(area_circle*0.05)\n",
    "    print(\"Perimeter\",2*pi*r)\n",
    "    print(\"Area of Circle:\",a)\n",
    "area(8)"
   ]
  },
  {
   "cell_type": "code",
   "execution_count": 2,
   "metadata": {},
   "outputs": [
    {
     "name": "stdout",
     "output_type": "stream",
     "text": [
      "Numbers of vowels: 2\n",
      "Numbers of consonants: 3\n"
     ]
    }
   ],
   "source": [
    "def x(word):\n",
    "    a = 0\n",
    "    b = 0\n",
    "    for i in word:\n",
    "        if i in \"AEIOU\" or i in \"aeiou\":\n",
    "            a += 1\n",
    "        else:\n",
    "            b += 1\n",
    "    print(\"Numbers of vowels:\",a)\n",
    "    print(\"Numbers of consonants:\",b)\n",
    "x('Shera')"
   ]
  },
  {
   "cell_type": "code",
   "execution_count": null,
   "metadata": {},
   "outputs": [],
   "source": [
    "from math import pi\n",
    "def rect(l,b):\n",
    "    area=l*b\n",
    "    a=area+(area*0.08)\n",
    "    print(\"Area of rectangle:\",a)\n",
    "    print(\"Perimeter:\",2*(l+b))\n",
    "rect(8,10)\n"
   ]
  },
  {
   "cell_type": "code",
   "execution_count": 1,
   "metadata": {},
   "outputs": [],
   "source": [
    "\n",
    "def even_odd(x):\n",
    "    even= 0\n",
    "    odd= 0\n",
    "    elist=[]\n",
    "    olist=[]\n",
    "    for i in x:\n",
    "        if (i)%2==0:\n",
    "            even+= 1\n",
    "            elist.append(i)\n",
    "        else:\n",
    "            odd+= 1\n",
    "            olist.append(i)\n",
    "    print('Numbers of Even :',even)\n",
    "    print('Numbers of odd:',odd)\n",
    "    print(\"List of even:\",elist)\n",
    "    print(\"List of odd:\",olist)\n",
    "    "
   ]
  },
  {
   "cell_type": "code",
   "execution_count": 2,
   "metadata": {},
   "outputs": [
    {
     "name": "stdout",
     "output_type": "stream",
     "text": [
      "writing\n"
     ]
    }
   ],
   "source": [
    "def verb(x):\n",
    "    if x[-1]=='e':\n",
    "        x=x.replace(x[-1],\"\")\n",
    "        print(x+\"ing\")\n",
    "    else:\n",
    "        print(x+\"ing\")\n",
    "verb('write')"
   ]
  },
  {
   "cell_type": "code",
   "execution_count": null,
   "metadata": {},
   "outputs": [],
   "source": []
  }
 ],
 "metadata": {
  "kernelspec": {
   "display_name": "Python 3",
   "language": "python",
   "name": "python3"
  },
  "language_info": {
   "codemirror_mode": {
    "name": "ipython",
    "version": 3
   },
   "file_extension": ".py",
   "mimetype": "text/x-python",
   "name": "python",
   "nbconvert_exporter": "python",
   "pygments_lexer": "ipython3",
   "version": "3.7.4"
  }
 },
 "nbformat": 4,
 "nbformat_minor": 2
}
