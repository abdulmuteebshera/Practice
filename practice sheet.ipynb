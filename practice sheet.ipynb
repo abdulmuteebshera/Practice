{
 "cells": [
  {
   "cell_type": "markdown",
   "metadata": {},
   "source": [
    "# QUES NO 1"
   ]
  },
  {
   "cell_type": "code",
   "execution_count": 63,
   "metadata": {},
   "outputs": [
    {
     "name": "stdout",
     "output_type": "stream",
     "text": [
      "16.31318590217984\n",
      "None\n"
     ]
    }
   ],
   "source": [
    "def f(a,b):\n",
    "    y=3.142*a**2\n",
    "    x=(sqrt(3)/4)*(b**2)*(6)\n",
    "    print(x-y)\n",
    "print(f(1.5,3))"
   ]
  },
  {
   "cell_type": "markdown",
   "metadata": {},
   "source": [
    "# QUES NO 2"
   ]
  },
  {
   "cell_type": "code",
   "execution_count": 104,
   "metadata": {},
   "outputs": [
    {
     "data": {
      "text/plain": [
       "'nadeem'"
      ]
     },
     "execution_count": 104,
     "metadata": {},
     "output_type": "execute_result"
    }
   ],
   "source": [
    "def f(x):\n",
    "    dict = {'abbu':'nadeem' , 'brother':'Rahim' , 'sister':'xyz' , 'mother':'abc'}\n",
    "    relation=dict[x]\n",
    "    return relation\n",
    "f('abbu')"
   ]
  },
  {
   "cell_type": "markdown",
   "metadata": {},
   "source": [
    "# QUES NO 3"
   ]
  },
  {
   "cell_type": "code",
   "execution_count": 81,
   "metadata": {},
   "outputs": [
    {
     "name": "stdout",
     "output_type": "stream",
     "text": [
      "15.904312808798327\n",
      "None\n"
     ]
    }
   ],
   "source": [
    "from math import pi\n",
    "def radius(x):\n",
    "    y=pi*x**2\n",
    "    print(y)\n",
    "print(radius(2.25))"
   ]
  },
  {
   "cell_type": "raw",
   "metadata": {},
   "source": [
    "def even"
   ]
  },
  {
   "cell_type": "markdown",
   "metadata": {},
   "source": [
    "# QUES NO 4"
   ]
  },
  {
   "cell_type": "code",
   "execution_count": 106,
   "metadata": {},
   "outputs": [
    {
     "name": "stdout",
     "output_type": "stream",
     "text": [
      "No even found!\n",
      "2\n",
      "sum of even numbers is: 2\n",
      "No even found!\n",
      "4\n",
      "sum of even numbers is: 6\n",
      "No even found!\n",
      "6\n",
      "sum of even numbers is: 12\n",
      "No even found!\n",
      "8\n",
      "sum of even numbers is: 20\n",
      "No even found!\n",
      "10\n",
      "sum of even numbers is: 30\n",
      "No even found!\n",
      "12\n",
      "sum of even numbers is: 42\n"
     ]
    }
   ],
   "source": [
    "\n",
    "def even(num):\n",
    "    s=0\n",
    "    for i in num:\n",
    "        if i%2==0:\n",
    "            print(i)\n",
    "            s = s+i\n",
    "            print(\"sum of even numbers is:\",s)\n",
    "        else:\n",
    "            print(\"No even found!\")\n",
    "even([1,2,3,4,5,6,7,8,9,10,11,12])\n"
   ]
  },
  {
   "cell_type": "markdown",
   "metadata": {},
   "source": [
    "# QUES NO 5"
   ]
  },
  {
   "cell_type": "code",
   "execution_count": 1,
   "metadata": {},
   "outputs": [
    {
     "name": "stdout",
     "output_type": "stream",
     "text": [
      "Enter a number: 12\n",
      "Enter a number: 13\n",
      "Enter a number: 14\n",
      "Enter a number: 15\n"
     ]
    },
    {
     "data": {
      "text/plain": [
       "[12, 13, 14, 15]"
      ]
     },
     "execution_count": 1,
     "metadata": {},
     "output_type": "execute_result"
    }
   ],
   "source": [
    "def f(x):\n",
    "    x.sort()\n",
    "    return x\n",
    "num=[]\n",
    "a=eval(input('Enter a number: '))\n",
    "b=eval(input('Enter a number: '))\n",
    "c=eval(input('Enter a number: '))\n",
    "d=eval(input('Enter a number: '))\n",
    "num.append(a)\n",
    "num.append(b)\n",
    "num.append(c)\n",
    "num.append(d)\n",
    "f(num)"
   ]
  },
  {
   "cell_type": "markdown",
   "metadata": {},
   "source": [
    "# QUES NO 6"
   ]
  },
  {
   "cell_type": "code",
   "execution_count": null,
   "metadata": {},
   "outputs": [],
   "source": [
    "from math import pi\n",
    "def area(r):\n",
    "    area_circle=pi*(r**2)\n",
    "    a = area_circle+(area_circle*0.05)\n",
    "    print(\"Perimeter\",2*pi*r)\n",
    "    print(\"Area of Circle:\",a)\n",
    "area(8)"
   ]
  },
  {
   "cell_type": "markdown",
   "metadata": {},
   "source": [
    "# QUES NO 7"
   ]
  },
  {
   "cell_type": "code",
   "execution_count": 2,
   "metadata": {},
   "outputs": [
    {
     "name": "stdout",
     "output_type": "stream",
     "text": [
      "Numbers of vowels: 2\n",
      "Numbers of consonants: 3\n"
     ]
    }
   ],
   "source": [
    "def x(word):\n",
    "    a = 0\n",
    "    b = 0\n",
    "    for i in word:\n",
    "        if i in \"AEIOU\" or i in \"aeiou\":\n",
    "            a += 1\n",
    "        else:\n",
    "            b += 1\n",
    "    print(\"Numbers of vowels:\",a)\n",
    "    print(\"Numbers of consonants:\",b)\n",
    "x('Shera')"
   ]
  },
  {
   "cell_type": "markdown",
   "metadata": {},
   "source": [
    "# QUES NO 8"
   ]
  },
  {
   "cell_type": "code",
   "execution_count": null,
   "metadata": {},
   "outputs": [],
   "source": [
    "from math import pi\n",
    "def rect(l,b):\n",
    "    area=l*b\n",
    "    a=area+(area*0.08)\n",
    "    print(\"Area of rectangle:\",a)\n",
    "    print(\"Perimeter:\",2*(l+b))\n",
    "rect(8,10)\n"
   ]
  },
  {
   "cell_type": "markdown",
   "metadata": {},
   "source": [
    "# QUES NO 9"
   ]
  },
  {
   "cell_type": "code",
   "execution_count": 1,
   "metadata": {},
   "outputs": [],
   "source": [
    "\n",
    "def even_odd(x):\n",
    "    even= 0\n",
    "    odd= 0\n",
    "    elist=[]\n",
    "    olist=[]\n",
    "    for i in x:\n",
    "        if (i)%2==0:\n",
    "            even+= 1\n",
    "            elist.append(i)\n",
    "        else:\n",
    "            odd+= 1\n",
    "            olist.append(i)\n",
    "    print('Numbers of Even :',even)\n",
    "    print('Numbers of odd:',odd)\n",
    "    print(\"List of even:\",elist)\n",
    "    print(\"List of odd:\",olist)\n",
    "    "
   ]
  },
  {
   "cell_type": "markdown",
   "metadata": {},
   "source": [
    "# QUES NO 10"
   ]
  },
  {
   "cell_type": "code",
   "execution_count": 2,
   "metadata": {},
   "outputs": [
    {
     "name": "stdout",
     "output_type": "stream",
     "text": [
      "reading\n"
     ]
    }
   ],
   "source": [
    "def verb(x):\n",
    "    if x[-1]=='e':\n",
    "        x=x.replace(x[-1],\"\")\n",
    "        print(x+\"ing\")\n",
    "    else:\n",
    "        print(x+\"ing\")\n",
    "verb('read')"
   ]
  },
  {
   "cell_type": "code",
   "execution_count": 4,
   "metadata": {},
   "outputs": [
    {
     "name": "stdout",
     "output_type": "stream",
     "text": [
      "Number of alphabets are: 5\n",
      "Missing alphabets are: bcdfgijklmnopqtuvwxyz\n"
     ]
    }
   ],
   "source": [
    "def f(x):\n",
    "    n=0\n",
    "    y=('abcdefghijklmnopqrstuvwxyz')\n",
    "    for i in x:\n",
    "        if i in y:\n",
    "            y=y.replace(i,\"\")\n",
    "            n+=1\n",
    "    print('Number of alphabets are:',n)\n",
    "    print('Missing alphabets are:',y)\n",
    "\n",
    "f('shera')"
   ]
  },
  {
   "cell_type": "code",
   "execution_count": 5,
   "metadata": {},
   "outputs": [
    {
     "data": {
      "text/plain": [
       "392.6990816987241"
      ]
     },
     "execution_count": 5,
     "metadata": {},
     "output_type": "execute_result"
    }
   ],
   "source": [
    "from math import pi\n",
    "def area(r1,r2):\n",
    "    x1=pi*(r1**2)\n",
    "    x2=pi*(r2**2)\n",
    "    if x1 > x2:\n",
    "        circle=(x2-x1)\n",
    "    else:\n",
    "        circle=(x1-x2)\n",
    "    return abs(circle)\n",
    "\n",
    "area(10,15)"
   ]
  },
  {
   "cell_type": "code",
   "execution_count": 6,
   "metadata": {},
   "outputs": [
    {
     "name": "stdout",
     "output_type": "stream",
     "text": [
      "Lower words: 4 Upper words: 1\n"
     ]
    }
   ],
   "source": [
    "def letter(x):\n",
    "    upper=0\n",
    "    lower=0\n",
    "    u=('ABCDEFGHIJKLMNOPQRSTUVWXYZ')\n",
    "    l=('abcdefghijklmnopqrstuvwxyz')\n",
    "    for i in x:\n",
    "        if i in u:\n",
    "            upper+=1\n",
    "        if i in l:\n",
    "            lower+=1\n",
    "    print('Lower words:',lower,'Upper words:',upper,)\n",
    "\n",
    "letter(\"Shera\")"
   ]
  },
  {
   "cell_type": "code",
   "execution_count": 7,
   "metadata": {},
   "outputs": [
    {
     "data": {
      "text/plain": [
       "104"
      ]
     },
     "execution_count": 7,
     "metadata": {},
     "output_type": "execute_result"
    }
   ],
   "source": [
    "def area(l1,b1,l2,b2):\n",
    "    x1=l1*b1\n",
    "    x2=l2*b2\n",
    "    if x1 > x2:\n",
    "        rect=(x2-x1)\n",
    "    else:\n",
    "        rect=(x1-x2)\n",
    "    return abs(rect)\n",
    "area(10,12,14,16)"
   ]
  },
  {
   "cell_type": "code",
   "execution_count": 10,
   "metadata": {},
   "outputs": [
    {
     "name": "stdout",
     "output_type": "stream",
     "text": [
      "1\n",
      "3/2\n",
      "11/6\n",
      "25/12\n",
      "137/60\n",
      "49/20\n",
      "363/140\n",
      "761/280\n",
      "7129/2520\n",
      "7381/2520\n",
      "83711/27720\n",
      "86021/27720\n",
      "1145993/360360\n",
      "1171733/360360\n"
     ]
    }
   ],
   "source": [
    "from fractions import Fraction\n",
    "def frac(x,y):\n",
    "    f= 0\n",
    "    for i in range(x,y):\n",
    "        f+=Fraction(1,i)\n",
    "        print(f)\n",
    "\n",
    "frac(1,15)"
   ]
  },
  {
   "cell_type": "code",
   "execution_count": null,
   "metadata": {},
   "outputs": [],
   "source": []
  }
 ],
 "metadata": {
  "kernelspec": {
   "display_name": "Python 3",
   "language": "python",
   "name": "python3"
  },
  "language_info": {
   "codemirror_mode": {
    "name": "ipython",
    "version": 3
   },
   "file_extension": ".py",
   "mimetype": "text/x-python",
   "name": "python",
   "nbconvert_exporter": "python",
   "pygments_lexer": "ipython3",
   "version": "3.7.4"
  }
 },
 "nbformat": 4,
 "nbformat_minor": 2
}
